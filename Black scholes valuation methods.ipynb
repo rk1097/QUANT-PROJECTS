{
 "cells": [
  {
   "cell_type": "markdown",
   "id": "550b864e",
   "metadata": {},
   "source": [
    "Lets implement a class for Black scholes pricing. The variables defined below are s0-initial stock price,k-strike price, sigma = volatility , r - risk free rate , t - time to expiry and der = derivative type(call or put)"
   ]
  },
  {
   "cell_type": "code",
   "execution_count": 4,
   "id": "a23e4564",
   "metadata": {},
   "outputs": [],
   "source": [
    "from numpy import random as random\n",
    "import scipy\n",
    "import numpy as np\n",
    "import scipy.stats as ss\n",
    "import matplotlib.pyplot as plt\n",
    "class Blackscholes_pricing:\n",
    "    def __init__(self,s0,k,sigma,r,t,der):\n",
    "        self.s0 = s0\n",
    "        self.k = k\n",
    "        self.sigma = sigma\n",
    "        self.r = r\n",
    "        self.t = t\n",
    "        self.der = der\n",
    "    def payoff_func(self,S):\n",
    "        if self.der == \"call\":\n",
    "            payoff = max(0,S-self.k)\n",
    "        if self.der == \"put\":\n",
    "            payoff = max(0,self.k-S)\n",
    "            return payoff\n",
    "    def pricing(self):\n",
    "        d1 = (np.log(self.s0/self.k)+ (self.r  + ((self.sigma**2)/2))*self.t)/(self.sigma*np.sqrt(self.t))\n",
    "        d2 = (np.log(self.s0/self.k)+ (self.r  - ((self.sigma**2)/2))*self.t)/(self.sigma*np.sqrt(self.t))\n",
    "        \n",
    "        if self.der == \"call\":\n",
    "            price = (self.s0 * ss.norm.cdf(d1))- (self.k * np.exp(-self.r*self.t)*ss.norm.cdf(d2))\n",
    "        if self.der == \"put\":\n",
    "            price = -(self.s0 * ss.norm.cdf(-d1))+ (self.k * np.exp(-self.r*self.t)*ss.norm.cdf(-d2))\n",
    "        return price"
   ]
  },
  {
   "cell_type": "markdown",
   "id": "abee54f2",
   "metadata": {},
   "source": [
    "N(d1) and N(d2) are the risk neutral probabilities of ST > K in the stock and money market numeraires respectively"
   ]
  },
  {
   "cell_type": "code",
   "execution_count": 5,
   "id": "4b1cd133",
   "metadata": {},
   "outputs": [
    {
     "data": {
      "text/plain": [
       "13.269676584660893"
      ]
     },
     "execution_count": 5,
     "metadata": {},
     "output_type": "execute_result"
    }
   ],
   "source": [
    "call = Blackscholes_pricing(100.0,100.0,0.2,0.1,1.0,\"call\")\n",
    "call.pricing()"
   ]
  },
  {
   "cell_type": "code",
   "execution_count": 6,
   "id": "7c509bb0",
   "metadata": {},
   "outputs": [
    {
     "data": {
      "text/plain": [
       "3.753418388256833"
      ]
     },
     "execution_count": 6,
     "metadata": {},
     "output_type": "execute_result"
    }
   ],
   "source": [
    "put = Blackscholes_pricing(100.0,100.0,0.2,0.1,1.0,\"put\")\n",
    "put.pricing()"
   ]
  },
  {
   "cell_type": "markdown",
   "id": "1c5aa5e0",
   "metadata": {},
   "source": [
    "Lets see whether the prices of above call and put for given strikes are vaild according to put-call parity"
   ]
  },
  {
   "cell_type": "code",
   "execution_count": 7,
   "id": "0fa79b5f",
   "metadata": {},
   "outputs": [
    {
     "name": "stdout",
     "output_type": "stream",
     "text": [
      "13.269676584660893\n",
      "13.269676584660886\n"
     ]
    }
   ],
   "source": [
    "print(call.pricing())\n",
    "print(put.pricing() + 100.0 - (100.0*np.exp(-0.1*1.0)))"
   ]
  },
  {
   "cell_type": "markdown",
   "id": "d63c7f15",
   "metadata": {},
   "source": [
    "we can see above that both the prices are equal"
   ]
  },
  {
   "cell_type": "code",
   "execution_count": 8,
   "id": "56ad360b",
   "metadata": {},
   "outputs": [],
   "source": [
    "#initial stock price\n",
    "s0 = 100.0\n",
    "#strike price\n",
    "k = 100.0\n",
    "#risk free rate\n",
    "r = 0.1\n",
    "#volatilty\n",
    "sigma = 0.2\n",
    "t = 1.0  #time to expiry\n",
    "mean = np.log(s0) + r-(0.5*sigma**2)*t  #mean of log of final stock price\n",
    "sd = sigma * np.sqrt(t) # standard deviation of log final stock price\n",
    "def density(x,mean,sigma):\n",
    "    return 1 / (x * sigma * np.sqrt(2 * np.pi)) * np.exp(-((np.log(x) - mean) ** 2) / (2 * sigma**2))"
   ]
  },
  {
   "cell_type": "code",
   "execution_count": 10,
   "id": "b53858d1",
   "metadata": {},
   "outputs": [
    {
     "data": {
      "image/png": "[encoded data removed]",
      "text/plain": [
       "<Figure size 576x360 with 1 Axes>"
      ]
     },
     "metadata": {
      "needs_background": "light"
     },
     "output_type": "display_data"
    }
   ],
   "source": [
    "plt.figure(figsize=(8,5))\n",
    "x = np.linspace(30,200,100)\n",
    "plt.plot(x,density(x,mean,sigma))\n",
    "plt.show()"
   ]
  },
  {
   "cell_type": "markdown",
   "id": "cb810462",
   "metadata": {},
   "source": [
    "Lets integrte and compute prices by using log normal distribution"
   ]
  },
  {
   "cell_type": "code",
   "execution_count": 11,
   "id": "45d4922b",
   "metadata": {},
   "outputs": [],
   "source": [
    "from scipy import integrate"
   ]
  },
  {
   "cell_type": "code",
   "execution_count": 12,
   "id": "978ea102",
   "metadata": {},
   "outputs": [
    {
     "name": "stdout",
     "output_type": "stream",
     "text": [
      "13.269676584660926\n",
      "3.753418388256828\n"
     ]
    }
   ],
   "source": [
    "def integral(x,k,sd,mean,der):\n",
    "    if der == \"call\":\n",
    "        return (x-k)*ss.lognorm.pdf(x,sd,scale=np.exp(mean))\n",
    "    if der == \"put\":\n",
    "        return (k-x)*ss.lognorm.pdf(x,sd,scale=np.exp(mean))\n",
    "\n",
    "\n",
    "\n",
    "\n",
    "call = scipy.integrate.quad(integral,k,np.inf,args=(k,sd,mean,\"call\"))\n",
    "put = scipy.integrate.quad(integral,0,k,args=(k,sd,mean,\"put\"))\n",
    "print(call[0]*np.exp(-r*t))\n",
    "print(put[0]*np.exp(-r*t))"
   ]
  },
  {
   "cell_type": "code",
   "execution_count": 13,
   "id": "481af134",
   "metadata": {},
   "outputs": [],
   "source": [
    "mean1 = np.log(s0) + r+(0.5*sigma**2)*t\n",
    "def pdff(x,sd,m):\n",
    "    return ss.lognorm.pdf(x,sd,scale=np.exp(m))\n",
    "nd2 = scipy.integrate.quad(pdff,k,np.inf,args=(sd,mean))\n",
    "nd1 = scipy.integrate.quad(pdff,k,np.inf,args=(sd,mean1))"
   ]
  },
  {
   "cell_type": "code",
   "execution_count": 14,
   "id": "5ef0b9aa",
   "metadata": {},
   "outputs": [
    {
     "name": "stdout",
     "output_type": "stream",
     "text": [
      "0.6554217416103069 0.725746882249926\n",
      "13.269676584662413\n"
     ]
    }
   ],
   "source": [
    "print(nd2[0],nd1[0])\n",
    "call_price = s0*nd1[0] - k * np.exp(-r*t) *nd2[0]\n",
    "print(call_price)"
   ]
  },
  {
   "cell_type": "markdown",
   "id": "58ce905c",
   "metadata": {},
   "source": [
    "Lets compute the price by Monte carlo simulation"
   ]
  },
  {
   "cell_type": "code",
   "execution_count": 15,
   "id": "a31b5327",
   "metadata": {},
   "outputs": [],
   "source": [
    "np.random.seed(42)\n",
    "N = 10000000  #no.of simulations\n",
    "w = ss.norm.rvs((r - 0.5 * sigma**2) * t, np.sqrt(t) * sigma,N)\n",
    "ST = s0*np.exp(w) # final stock price \n",
    "call = np.mean(np.exp(-r*t)*(np.maximum(0,ST-k))) #average price of all simulations"
   ]
  },
  {
   "cell_type": "code",
   "execution_count": 16,
   "id": "fa90cd1a",
   "metadata": {},
   "outputs": [
    {
     "name": "stdout",
     "output_type": "stream",
     "text": [
      "13.269783529555546\n",
      "3.7547545678123018\n"
     ]
    }
   ],
   "source": [
    "print(call)\n",
    "put = np.mean(np.exp(-r * t) * np.maximum(k - ST, 0))\n",
    "print(put)"
   ]
  },
  {
   "cell_type": "markdown",
   "id": "10a443ed",
   "metadata": {},
   "source": [
    "compute the standard error of these prices due to monte carlo simulation"
   ]
  },
  {
   "cell_type": "code",
   "execution_count": 17,
   "id": "72c2c5bf",
   "metadata": {},
   "outputs": [
    {
     "name": "stdout",
     "output_type": "stream",
     "text": [
      "0.005093601327921744\n",
      "0.0022136467135360615\n"
     ]
    }
   ],
   "source": [
    "call_err = ss.sem(np.exp(-r *t) * np.maximum(ST - k, 0))  # standard error\n",
    "put_err = ss.sem(np.exp(-r * t) * np.maximum(k - ST, 0))  # standard error\n",
    "print(call_err)\n",
    "print(put_err)"
   ]
  },
  {
   "cell_type": "markdown",
   "id": "4878e13a",
   "metadata": {},
   "source": [
    "Binomal tree method"
   ]
  },
  {
   "cell_type": "code",
   "execution_count": 18,
   "id": "96beb5a2",
   "metadata": {},
   "outputs": [],
   "source": [
    "sigma = 0.2 \n",
    "n = 15000 #no.of steps\n",
    "dt = t/n #length of each step\n",
    "u = np.exp(sigma*np.sqrt(dt))  \n",
    "d = 1.0/u  \n",
    "a = np.exp(r * dt)\n",
    "p = (a-d)/(u-d)\n",
    "q = 1.0-p\n",
    "V = np.zeros(n+1, dtype=np.float64)\n",
    "S_T  = np.array([s0*(u**j)*(d**(n-j)) for j in range(n+1)])"
   ]
  },
  {
   "cell_type": "code",
   "execution_count": 20,
   "id": "e8bb3a5e",
   "metadata": {},
   "outputs": [
    {
     "data": {
      "text/plain": [
       "13.269537371978052"
      ]
     },
     "execution_count": 20,
     "metadata": {},
     "output_type": "execute_result"
    }
   ],
   "source": [
    "V = np.maximum(S_T-k,0.0)\n",
    "for i in range(n - 1, -1, -1):\n",
    "    # the price vector is overwritten at each step\n",
    "    V[:-1] = np.exp(-r * dt) * (p * V[1:] + q * V[:-1])\n",
    "\n",
    "V[0]"
   ]
  },
  {
   "cell_type": "code",
   "execution_count": 21,
   "id": "c122d89e",
   "metadata": {},
   "outputs": [],
   "source": [
    "values = np.linspace(0.01,10,1000)\n",
    "prices = []\n",
    "for i in range(1000):\n",
    "    call = Blackscholes_pricing(100.0,100.0,values[i],0.1,1.0,\"call\")\n",
    "    prices.append(call.pricing())"
   ]
  },
  {
   "cell_type": "markdown",
   "id": "3a3343a2",
   "metadata": {},
   "source": [
    "Plotting Black scholes price as a function of voaltility"
   ]
  },
  {
   "cell_type": "code",
   "execution_count": 23,
   "id": "d11e38e5",
   "metadata": {},
   "outputs": [
    {
     "data": {
      "image/png": "[encoded data removed]",
      "text/plain": [
       "<Figure size 432x288 with 1 Axes>"
      ]
     },
     "metadata": {
      "needs_background": "light"
     },
     "output_type": "display_data"
    }
   ],
   "source": [
    "plt.plot(values,prices)\n",
    "plt.xlabel(\"sigma\")\n",
    "plt.ylabel(\"price\")\n",
    "plt.title(\"Black-Scholes price as function of volatility\")\n",
    "plt.show()"
   ]
  },
  {
   "cell_type": "markdown",
   "id": "b262e877",
   "metadata": {},
   "source": [
    "The Black scholes formula is an increasing function of volatility\n",
    "However for higher voaltilities the graph becomes flat\n",
    "We can conclude that the model is reliable for volatilities in the range 0-400%"
   ]
  },
  {
   "cell_type": "code",
   "execution_count": null,
   "id": "9de7ba60",
   "metadata": {},
   "outputs": [],
   "source": []
  }
 ],
 "metadata": {
  "kernelspec": {
   "display_name": "Python 3 (ipykernel)",
   "language": "python",
   "name": "python3"
  },
  "language_info": {
   "codemirror_mode": {
    "name": "ipython",
    "version": 3
   },
   "file_extension": ".py",
   "mimetype": "text/x-python",
   "name": "python",
   "nbconvert_exporter": "python",
   "pygments_lexer": "ipython3",
   "version": "3.9.7"
  }
 },
 "nbformat": 4,
 "nbformat_minor": 5
}
